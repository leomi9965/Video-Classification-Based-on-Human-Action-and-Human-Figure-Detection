{
  "nbformat": 4,
  "nbformat_minor": 0,
  "metadata": {
    "colab": {
      "provenance": [],
      "machine_shape": "hm"
    },
    "kernelspec": {
      "name": "python3",
      "display_name": "Python 3"
    },
    "language_info": {
      "name": "python"
    },
    "accelerator": "GPU",
    "gpuClass": "premium"
  },
  "cells": [
    {
      "cell_type": "code",
      "execution_count": null,
      "metadata": {
        "colab": {
          "base_uri": "https://localhost:8080/"
        },
        "id": "vP_zwhPQJnDq",
        "outputId": "1d51b971-91e1-4e8f-b1b7-b34f0dbdb6c3"
      },
      "outputs": [
        {
          "output_type": "stream",
          "name": "stdout",
          "text": [
            "Mounted at /content/drive\n"
          ]
        }
      ],
      "source": [
        "from google.colab import drive\n",
        "drive.mount('/content/drive')"
      ]
    },
    {
      "cell_type": "code",
      "source": [
        "import cv2\n",
        "\n",
        "# def extract_frames(video_path, output_path, frame_rate):\n",
        "#     cap = cv2.VideoCapture(video_path)\n",
        "#     count = 0\n",
        "#     while cap.isOpened():\n",
        "#         ret, frame = cap.read()\n",
        "#         if not ret:\n",
        "#             break\n",
        "\n",
        "#         if count % frame_rate == 0:\n",
        "#             frame_file = f\"{output_path}/frame{count}.jpg\"\n",
        "#             cv2.imwrite(frame_file, frame)\n",
        "\n",
        "#         count += 1\n",
        "#     cap.release()\n",
        "#     cv2.destroyAllWindows()\n",
        "def extract_frames(video_path, output_path, frame_rate):\n",
        "    cap = cv2.VideoCapture(video_path)\n",
        "    total_frames = int(cap.get(cv2.CAP_PROP_FRAME_COUNT))\n",
        "    video_fps = cap.get(cv2.CAP_PROP_FPS)\n",
        "    frame_interval = int(video_fps / frame_rate)\n",
        "\n",
        "    count = 0\n",
        "    frame_index = 0\n",
        "    while cap.isOpened():\n",
        "        ret, frame = cap.read()\n",
        "        if not ret:\n",
        "            break\n",
        "\n",
        "        if count == frame_index * frame_interval:\n",
        "            frame_file = f\"{output_path}/frame{count}.jpg\"\n",
        "            cv2.imwrite(frame_file, frame)\n",
        "            frame_index += 1\n",
        "\n",
        "        count += 1\n",
        "\n",
        "    cap.release()\n",
        "    cv2.destroyAllWindows()"
      ],
      "metadata": {
        "id": "bvZfV2WJWO13"
      },
      "execution_count": null,
      "outputs": []
    },
    {
      "cell_type": "code",
      "source": [
        "!wget http://download.tensorflow.org/models/object_detection/ssd_mobilenet_v2_coco_2018_03_29.tar.gz"
      ],
      "metadata": {
        "colab": {
          "base_uri": "https://localhost:8080/"
        },
        "id": "dAZfFbcrWSuq",
        "outputId": "18eb3362-d9b3-4641-d27e-954f5529c632"
      },
      "execution_count": null,
      "outputs": [
        {
          "output_type": "stream",
          "name": "stdout",
          "text": [
            "--2023-04-23 02:12:35--  http://download.tensorflow.org/models/object_detection/ssd_mobilenet_v2_coco_2018_03_29.tar.gz\n",
            "Resolving download.tensorflow.org (download.tensorflow.org)... 142.251.12.128, 2404:6800:4003:c11::80\n",
            "Connecting to download.tensorflow.org (download.tensorflow.org)|142.251.12.128|:80... connected.\n",
            "HTTP request sent, awaiting response... 200 OK\n",
            "Length: 187925923 (179M) [application/x-tar]\n",
            "Saving to: ‘ssd_mobilenet_v2_coco_2018_03_29.tar.gz’\n",
            "\n",
            "ssd_mobilenet_v2_co 100%[===================>] 179.22M  65.6MB/s    in 2.7s    \n",
            "\n",
            "2023-04-23 02:12:39 (65.6 MB/s) - ‘ssd_mobilenet_v2_coco_2018_03_29.tar.gz’ saved [187925923/187925923]\n",
            "\n"
          ]
        }
      ]
    },
    {
      "cell_type": "code",
      "source": [
        "!tar -xzf ssd_mobilenet_v2_coco_2018_03_29.tar.gz"
      ],
      "metadata": {
        "id": "FeikHl6CWV5t"
      },
      "execution_count": null,
      "outputs": []
    },
    {
      "cell_type": "code",
      "source": [
        "import numpy as np\n",
        "import tensorflow as tf\n",
        "\n",
        "def load_model(model_path):\n",
        "    model = tf.saved_model.load(model_path)\n",
        "    return model\n",
        "\n",
        "def detect_human(frame, model):\n",
        "    input_tensor = tf.convert_to_tensor(frame)\n",
        "    input_tensor = input_tensor[tf.newaxis, ...]\n",
        "    detections = model.signatures['serving_default'](input_tensor)\n",
        "\n",
        "    # Detection scores and classes\n",
        "    scores = detections['detection_scores'][0].numpy()\n",
        "    classes = detections['detection_classes'][0].numpy().astype(np.int32)\n",
        "\n",
        "    # Only keep detections with a score above a certain threshold and class 1 (person)\n",
        "    indices = np.where((scores > 0.5) & (classes == 1))\n",
        "\n",
        "    # Get the bounding boxes of detected humans\n",
        "    boxes = detections['detection_boxes'][0].numpy()\n",
        "    boxes = boxes[indices]\n",
        "\n",
        "    return boxes\n",
        "\n",
        "model_path = \"ssd_mobilenet_v2_coco_2018_03_29/saved_model\"\n",
        "model = load_model(model_path)"
      ],
      "metadata": {
        "id": "lb8idZePWdDM"
      },
      "execution_count": null,
      "outputs": []
    },
    {
      "cell_type": "code",
      "source": [
        "import os\n",
        "\n",
        "# def process_frames(input_path, output_path, model):\n",
        "#     for frame_file in os.listdir(input_path):\n",
        "#         frame = cv2.imread(os.path.join(input_path, frame_file))\n",
        "#         boxes = detect_human(frame, model)\n",
        "\n",
        "#         # Draw bounding boxes around detected humans\n",
        "#         for box in boxes:\n",
        "#             ymin, xmin, ymax, xmax = box\n",
        "#             h, w, _ = frame.shape\n",
        "#             cv2.rectangle(frame, (int(xmin * w), int(ymin * h)), (int(xmax * w), int(ymax * h)), (0, 255, 0), 2)\n",
        "\n",
        "#         # Save the processed frame\n",
        "#         cv2.imwrite(os.path.join(output_path, frame_file), frame)\n",
        "def process_frames(input_path, output_path, model):\n",
        "    for frame_file in os.listdir(input_path):\n",
        "        frame = cv2.imread(os.path.join(input_path, frame_file))\n",
        "        \n",
        "        if frame is not None:\n",
        "            boxes = detect_human(frame, model)\n",
        "\n",
        "            # Draw bounding boxes around detected humans\n",
        "            for box in boxes:\n",
        "                ymin, xmin, ymax, xmax = box\n",
        "                h, w, _ = frame.shape\n",
        "                cv2.rectangle(frame, (int(xmin * w), int(ymin * h)), (int(xmax * w), int(ymax * h)), (0, 255, 0), 2)\n",
        "\n",
        "            # Save the processed frame\n",
        "            cv2.imwrite(os.path.join(output_path, frame_file), frame)"
      ],
      "metadata": {
        "id": "6WgeXo2WWm-F"
      },
      "execution_count": null,
      "outputs": []
    },
    {
      "cell_type": "code",
      "source": [
        "# def frames_to_video(input_path, output_path, fps, size):\n",
        "#     out = cv2.VideoWriter(output_path, cv2.VideoWriter_fourcc(*'mp4v'), fps, size)\n",
        "#     for frame_file in sorted(os.listdir(input_path), key=lambda f: int(f.split('.')[0].replace(\"frame\", \"\"))):\n",
        "#         frame = cv2.imread(os.path.join(input_path, frame_file))\n",
        "#         out.write(frame)\n",
        "\n",
        "#     out.release()\n",
        "import re\n",
        "\n",
        "def frames_to_video(input_path, output_path, fps, size):\n",
        "    out = cv2.VideoWriter(output_path, cv2.VideoWriter_fourcc(*'mp4v'), fps, size)\n",
        "    \n",
        "    frame_files = [f for f in os.listdir(input_path) if re.match(r'frame\\d+\\.jpg', f)]\n",
        "    \n",
        "    for frame_file in sorted(frame_files, key=lambda f: int(f.split('.')[0].replace(\"frame\", \"\"))):\n",
        "        frame = cv2.imread(os.path.join(input_path, frame_file))\n",
        "        out.write(frame)\n",
        "\n",
        "    out.release()"
      ],
      "metadata": {
        "id": "ak-mGQIncEV3"
      },
      "execution_count": null,
      "outputs": []
    },
    {
      "cell_type": "code",
      "source": [
        "input_video_path = \"/content/drive/MyDrive/DeepLearning/Final/Train/hugging/pexels-ksenia-chernaya-7695725-1080x1920-24fps.mp4\"\n",
        "output_frames_path = \"/content/drive/MyDrive/DeepLearning/Final/frames\"\n",
        "output_processed_frames_path = \"/content/drive/MyDrive/DeepLearning/Final/processed_frames\"\n",
        "output_video_path = \"/content/drive/MyDrive/DeepLearning/Final/processed_video_hug_twopeople.mp4\"\n",
        "\n",
        "frame_rate = 4\n",
        "\n",
        "# Extract frames from the input video\n",
        "extract_frames(input_video_path, output_frames_path, frame_rate)\n",
        "\n",
        "# Process frames (detect and draw bounding boxes around humans)\n",
        "process_frames(output_frames_path, output_processed_frames_path, model)\n",
        "\n",
        "# Get the original video's FPS and size\n",
        "cap = cv2.VideoCapture(input_video_path)\n",
        "fps = int(cap.get(cv2.CAP_PROP_FPS))\n",
        "width = int(cap.get(cv2.CAP_PROP_FRAME_WIDTH))\n",
        "height = int(cap.get(cv2.CAP_PROP_FRAME_HEIGHT))\n",
        "cap.release()\n",
        "\n",
        "# Convert the processed frames back to video\n",
        "frames_to_video(output_processed_frames_path, output_video_path, fps, (width, height))"
      ],
      "metadata": {
        "id": "zWX04PmbcyZk"
      },
      "execution_count": null,
      "outputs": []
    }
  ]
}